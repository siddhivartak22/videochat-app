{
 "cells": [
  {
   "cell_type": "code",
   "execution_count": 1,
   "id": "f9d7f7c9",
   "metadata": {},
   "outputs": [],
   "source": [
    "import socket as s\n",
    "import cv2\n",
    "import pickle\n",
    "import struct"
   ]
  },
  {
   "cell_type": "code",
   "execution_count": 2,
   "id": "accc91f6",
   "metadata": {},
   "outputs": [
    {
     "name": "stdout",
     "output_type": "stream",
     "text": [
      "Host IP: 192.168.43.185\n"
     ]
    }
   ],
   "source": [
    "server_s = s.socket(s.AF_INET,s.SOCK_STREAM)\n",
    "host_name  = s.gethostname()\n",
    "host_ip = s.gethostbyname(host_name)\n",
    "print('Host IP:',host_ip)"
   ]
  },
  {
   "cell_type": "code",
   "execution_count": 3,
   "id": "59f53969",
   "metadata": {},
   "outputs": [
    {
     "name": "stdout",
     "output_type": "stream",
     "text": [
      "Socket Created Successfully\n"
     ]
    }
   ],
   "source": [
    "port = 2204\n",
    "s_address = ('192.168.43.185',port)\n",
    "print(\"Socket Created Successfully\")"
   ]
  },
  {
   "cell_type": "code",
   "execution_count": 4,
   "id": "7dd800b0",
   "metadata": {},
   "outputs": [
    {
     "name": "stdout",
     "output_type": "stream",
     "text": [
      "Socket Bind Successfully\n"
     ]
    }
   ],
   "source": [
    "server_s.bind(s_address)\n",
    "print(\"Socket Bind Successfully\")"
   ]
  },
  {
   "cell_type": "code",
   "execution_count": 5,
   "id": "0189a1ac",
   "metadata": {},
   "outputs": [
    {
     "name": "stdout",
     "output_type": "stream",
     "text": [
      "Listening at: ('192.168.43.185', 2204)\n"
     ]
    }
   ],
   "source": [
    "server_s.listen(5)\n",
    "print(\"Listening at:\",s_address)"
   ]
  },
  {
   "cell_type": "code",
   "execution_count": null,
   "id": "99b952a2",
   "metadata": {},
   "outputs": [],
   "source": []
  },
  {
   "cell_type": "code",
   "execution_count": null,
   "id": "1f1a85f7",
   "metadata": {},
   "outputs": [
    {
     "name": "stdout",
     "output_type": "stream",
     "text": [
      "GOT CONNECTION FROM: ('192.168.43.185', 51392)\n"
     ]
    }
   ],
   "source": [
    "while True:\n",
    "    client_s,addr = server_s.accept()\n",
    "    print('GOT CONNECTION FROM:',addr)\n",
    "    if client_s:\n",
    "        vid = cv2.VideoCapture(0)\n",
    "        \n",
    "        while(vid.isOpened()):\n",
    "            img,frame = vid.read()\n",
    "            a = pickle.dumps(frame)\n",
    "            message = struct.pack(\"Q\",len(a))+a\n",
    "            client_s.sendall(message)\n",
    "            \n",
    "            cv2.imshow('Server Video',frame)\n",
    "            key = cv2.waitKey(1) & 0xFF\n",
    "            if key ==ord('q'):\n",
    "                client_s.close()"
   ]
  },
  {
   "cell_type": "code",
   "execution_count": null,
   "id": "361ecaf8",
   "metadata": {},
   "outputs": [],
   "source": []
  },
  {
   "cell_type": "code",
   "execution_count": null,
   "id": "7cd1238e",
   "metadata": {},
   "outputs": [],
   "source": []
  }
 ],
 "metadata": {
  "kernelspec": {
   "display_name": "Python 3",
   "language": "python",
   "name": "python3"
  },
  "language_info": {
   "codemirror_mode": {
    "name": "ipython",
    "version": 3
   },
   "file_extension": ".py",
   "mimetype": "text/x-python",
   "name": "python",
   "nbconvert_exporter": "python",
   "pygments_lexer": "ipython3",
   "version": "3.8.8"
  }
 },
 "nbformat": 4,
 "nbformat_minor": 5
}
